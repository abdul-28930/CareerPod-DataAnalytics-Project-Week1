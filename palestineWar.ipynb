{
 "cells": [
  {
   "cell_type": "code",
   "execution_count": 2,
   "metadata": {},
   "outputs": [],
   "source": [
    "import pandas as pd\n",
    "import numpy as np\n",
    "import seaborn as sns\n",
    "import matplotlib.pyplot as plt\n",
    "%matplotlib inline"
   ]
  },
  {
   "cell_type": "code",
   "execution_count": 2,
   "metadata": {},
   "outputs": [],
   "source": [
    "data = pd.read_csv('dataset.csv')"
   ]
  },
  {
   "cell_type": "code",
   "execution_count": 3,
   "metadata": {},
   "outputs": [],
   "source": [
    "# Understand the Data\n"
   ]
  },
  {
   "cell_type": "code",
   "execution_count": 4,
   "metadata": {},
   "outputs": [
    {
     "data": {
      "text/html": [
       "<div>\n",
       "<style scoped>\n",
       "    .dataframe tbody tr th:only-of-type {\n",
       "        vertical-align: middle;\n",
       "    }\n",
       "\n",
       "    .dataframe tbody tr th {\n",
       "        vertical-align: top;\n",
       "    }\n",
       "\n",
       "    .dataframe thead th {\n",
       "        text-align: right;\n",
       "    }\n",
       "</style>\n",
       "<table border=\"1\" class=\"dataframe\">\n",
       "  <thead>\n",
       "    <tr style=\"text-align: right;\">\n",
       "      <th></th>\n",
       "      <th>name</th>\n",
       "      <th>date_of_event</th>\n",
       "      <th>age</th>\n",
       "      <th>citizenship</th>\n",
       "      <th>event_location</th>\n",
       "      <th>event_location_district</th>\n",
       "      <th>event_location_region</th>\n",
       "      <th>date_of_death</th>\n",
       "      <th>gender</th>\n",
       "      <th>took_part_in_the_hostilities</th>\n",
       "      <th>place_of_residence</th>\n",
       "      <th>place_of_residence_district</th>\n",
       "      <th>type_of_injury</th>\n",
       "      <th>ammunition</th>\n",
       "      <th>killed_by</th>\n",
       "      <th>notes</th>\n",
       "    </tr>\n",
       "  </thead>\n",
       "  <tbody>\n",
       "    <tr>\n",
       "      <th>0</th>\n",
       "      <td>'Abd a-Rahman Suleiman Muhammad Abu Daghash</td>\n",
       "      <td>2023-09-24</td>\n",
       "      <td>32.0</td>\n",
       "      <td>Palestinian</td>\n",
       "      <td>Nur Shams R.C.</td>\n",
       "      <td>Tulkarm</td>\n",
       "      <td>West Bank</td>\n",
       "      <td>2023-09-24</td>\n",
       "      <td>M</td>\n",
       "      <td>NaN</td>\n",
       "      <td>Nur Shams R.C.</td>\n",
       "      <td>Tulkarm</td>\n",
       "      <td>gunfire</td>\n",
       "      <td>live ammunition</td>\n",
       "      <td>Israeli security forces</td>\n",
       "      <td>Fatally shot by Israeli forces while standing ...</td>\n",
       "    </tr>\n",
       "    <tr>\n",
       "      <th>1</th>\n",
       "      <td>Usayed Farhan Muhammad 'Ali Abu 'Ali</td>\n",
       "      <td>2023-09-24</td>\n",
       "      <td>21.0</td>\n",
       "      <td>Palestinian</td>\n",
       "      <td>Nur Shams R.C.</td>\n",
       "      <td>Tulkarm</td>\n",
       "      <td>West Bank</td>\n",
       "      <td>2023-09-24</td>\n",
       "      <td>M</td>\n",
       "      <td>NaN</td>\n",
       "      <td>Nur Shams R.C.</td>\n",
       "      <td>Tulkarm</td>\n",
       "      <td>gunfire</td>\n",
       "      <td>live ammunition</td>\n",
       "      <td>Israeli security forces</td>\n",
       "      <td>Fatally shot by Israeli forces while trying to...</td>\n",
       "    </tr>\n",
       "    <tr>\n",
       "      <th>2</th>\n",
       "      <td>'Abdallah 'Imad Sa'ed Abu Hassan</td>\n",
       "      <td>2023-09-22</td>\n",
       "      <td>16.0</td>\n",
       "      <td>Palestinian</td>\n",
       "      <td>Kfar Dan</td>\n",
       "      <td>Jenin</td>\n",
       "      <td>West Bank</td>\n",
       "      <td>2023-09-22</td>\n",
       "      <td>M</td>\n",
       "      <td>NaN</td>\n",
       "      <td>al-Yamun</td>\n",
       "      <td>Jenin</td>\n",
       "      <td>gunfire</td>\n",
       "      <td>live ammunition</td>\n",
       "      <td>Israeli security forces</td>\n",
       "      <td>Fatally shot by soldiers while firing at them ...</td>\n",
       "    </tr>\n",
       "    <tr>\n",
       "      <th>3</th>\n",
       "      <td>Durgham Muhammad Yihya al-Akhras</td>\n",
       "      <td>2023-09-20</td>\n",
       "      <td>19.0</td>\n",
       "      <td>Palestinian</td>\n",
       "      <td>'Aqbat Jaber R.C.</td>\n",
       "      <td>Jericho</td>\n",
       "      <td>West Bank</td>\n",
       "      <td>2023-09-20</td>\n",
       "      <td>M</td>\n",
       "      <td>NaN</td>\n",
       "      <td>'Aqbat Jaber R.C.</td>\n",
       "      <td>Jericho</td>\n",
       "      <td>gunfire</td>\n",
       "      <td>live ammunition</td>\n",
       "      <td>Israeli security forces</td>\n",
       "      <td>Shot in the head by Israeli forces while throw...</td>\n",
       "    </tr>\n",
       "    <tr>\n",
       "      <th>4</th>\n",
       "      <td>Raafat 'Omar Ahmad Khamaisah</td>\n",
       "      <td>2023-09-19</td>\n",
       "      <td>15.0</td>\n",
       "      <td>Palestinian</td>\n",
       "      <td>Jenin R.C.</td>\n",
       "      <td>Jenin</td>\n",
       "      <td>West Bank</td>\n",
       "      <td>2023-09-19</td>\n",
       "      <td>M</td>\n",
       "      <td>NaN</td>\n",
       "      <td>Jenin</td>\n",
       "      <td>Jenin</td>\n",
       "      <td>gunfire</td>\n",
       "      <td>live ammunition</td>\n",
       "      <td>Israeli security forces</td>\n",
       "      <td>Wounded by soldiers’ gunfire after running awa...</td>\n",
       "    </tr>\n",
       "  </tbody>\n",
       "</table>\n",
       "</div>"
      ],
      "text/plain": [
       "                                          name date_of_event   age  \\\n",
       "0  'Abd a-Rahman Suleiman Muhammad Abu Daghash    2023-09-24  32.0   \n",
       "1         Usayed Farhan Muhammad 'Ali Abu 'Ali    2023-09-24  21.0   \n",
       "2             'Abdallah 'Imad Sa'ed Abu Hassan    2023-09-22  16.0   \n",
       "3             Durgham Muhammad Yihya al-Akhras    2023-09-20  19.0   \n",
       "4                 Raafat 'Omar Ahmad Khamaisah    2023-09-19  15.0   \n",
       "\n",
       "   citizenship     event_location event_location_district  \\\n",
       "0  Palestinian     Nur Shams R.C.                 Tulkarm   \n",
       "1  Palestinian     Nur Shams R.C.                 Tulkarm   \n",
       "2  Palestinian           Kfar Dan                   Jenin   \n",
       "3  Palestinian  'Aqbat Jaber R.C.                 Jericho   \n",
       "4  Palestinian         Jenin R.C.                   Jenin   \n",
       "\n",
       "  event_location_region date_of_death gender took_part_in_the_hostilities  \\\n",
       "0             West Bank    2023-09-24      M                          NaN   \n",
       "1             West Bank    2023-09-24      M                          NaN   \n",
       "2             West Bank    2023-09-22      M                          NaN   \n",
       "3             West Bank    2023-09-20      M                          NaN   \n",
       "4             West Bank    2023-09-19      M                          NaN   \n",
       "\n",
       "  place_of_residence place_of_residence_district type_of_injury  \\\n",
       "0     Nur Shams R.C.                     Tulkarm        gunfire   \n",
       "1     Nur Shams R.C.                     Tulkarm        gunfire   \n",
       "2           al-Yamun                       Jenin        gunfire   \n",
       "3  'Aqbat Jaber R.C.                     Jericho        gunfire   \n",
       "4              Jenin                       Jenin        gunfire   \n",
       "\n",
       "        ammunition                killed_by  \\\n",
       "0  live ammunition  Israeli security forces   \n",
       "1  live ammunition  Israeli security forces   \n",
       "2  live ammunition  Israeli security forces   \n",
       "3  live ammunition  Israeli security forces   \n",
       "4  live ammunition  Israeli security forces   \n",
       "\n",
       "                                               notes  \n",
       "0  Fatally shot by Israeli forces while standing ...  \n",
       "1  Fatally shot by Israeli forces while trying to...  \n",
       "2  Fatally shot by soldiers while firing at them ...  \n",
       "3  Shot in the head by Israeli forces while throw...  \n",
       "4  Wounded by soldiers’ gunfire after running awa...  "
      ]
     },
     "execution_count": 4,
     "metadata": {},
     "output_type": "execute_result"
    }
   ],
   "source": [
    "data.head()"
   ]
  },
  {
   "cell_type": "code",
   "execution_count": 5,
   "metadata": {},
   "outputs": [
    {
     "data": {
      "text/html": [
       "<div>\n",
       "<style scoped>\n",
       "    .dataframe tbody tr th:only-of-type {\n",
       "        vertical-align: middle;\n",
       "    }\n",
       "\n",
       "    .dataframe tbody tr th {\n",
       "        vertical-align: top;\n",
       "    }\n",
       "\n",
       "    .dataframe thead th {\n",
       "        text-align: right;\n",
       "    }\n",
       "</style>\n",
       "<table border=\"1\" class=\"dataframe\">\n",
       "  <thead>\n",
       "    <tr style=\"text-align: right;\">\n",
       "      <th></th>\n",
       "      <th>name</th>\n",
       "      <th>date_of_event</th>\n",
       "      <th>age</th>\n",
       "      <th>citizenship</th>\n",
       "      <th>event_location</th>\n",
       "      <th>event_location_district</th>\n",
       "      <th>event_location_region</th>\n",
       "      <th>date_of_death</th>\n",
       "      <th>gender</th>\n",
       "      <th>took_part_in_the_hostilities</th>\n",
       "      <th>place_of_residence</th>\n",
       "      <th>place_of_residence_district</th>\n",
       "      <th>type_of_injury</th>\n",
       "      <th>ammunition</th>\n",
       "      <th>killed_by</th>\n",
       "      <th>notes</th>\n",
       "    </tr>\n",
       "  </thead>\n",
       "  <tbody>\n",
       "    <tr>\n",
       "      <th>11119</th>\n",
       "      <td>Binyamin Herling</td>\n",
       "      <td>2000-10-19</td>\n",
       "      <td>64.0</td>\n",
       "      <td>Israeli</td>\n",
       "      <td>Nablus</td>\n",
       "      <td>Nablus</td>\n",
       "      <td>West Bank</td>\n",
       "      <td>2000-10-19</td>\n",
       "      <td>M</td>\n",
       "      <td>Israelis</td>\n",
       "      <td>Kedumim</td>\n",
       "      <td>Tulkarm</td>\n",
       "      <td>gunfire</td>\n",
       "      <td>live ammunition</td>\n",
       "      <td>Palestinian civilians</td>\n",
       "      <td>Killed while hiking on Mt. Eival.</td>\n",
       "    </tr>\n",
       "    <tr>\n",
       "      <th>11120</th>\n",
       "      <td>Farid Musa 'Issa a-Nesasreh</td>\n",
       "      <td>2000-10-17</td>\n",
       "      <td>28.0</td>\n",
       "      <td>Palestinian</td>\n",
       "      <td>Beit Furik</td>\n",
       "      <td>Nablus</td>\n",
       "      <td>West Bank</td>\n",
       "      <td>2000-10-17</td>\n",
       "      <td>M</td>\n",
       "      <td>Unknown</td>\n",
       "      <td>Beit Furik</td>\n",
       "      <td>Nablus</td>\n",
       "      <td>gunfire</td>\n",
       "      <td>NaN</td>\n",
       "      <td>Israeli civilians</td>\n",
       "      <td>Killed by a settler from Itamar while harvesti...</td>\n",
       "    </tr>\n",
       "    <tr>\n",
       "      <th>11121</th>\n",
       "      <td>Hillel Lieberman</td>\n",
       "      <td>2000-10-07</td>\n",
       "      <td>36.0</td>\n",
       "      <td>Israeli</td>\n",
       "      <td>Nablus</td>\n",
       "      <td>Nablus</td>\n",
       "      <td>West Bank</td>\n",
       "      <td>2000-10-07</td>\n",
       "      <td>M</td>\n",
       "      <td>Israelis</td>\n",
       "      <td>Elon Moreh</td>\n",
       "      <td>Nablus</td>\n",
       "      <td>gunfire</td>\n",
       "      <td>live ammunition</td>\n",
       "      <td>Palestinian civilians</td>\n",
       "      <td>His body was found a day after he disappeared.</td>\n",
       "    </tr>\n",
       "    <tr>\n",
       "      <th>11122</th>\n",
       "      <td>Fahed Mustafa 'Odeh Baker</td>\n",
       "      <td>2000-10-07</td>\n",
       "      <td>21.0</td>\n",
       "      <td>Palestinian</td>\n",
       "      <td>Bidya</td>\n",
       "      <td>Salfit</td>\n",
       "      <td>West Bank</td>\n",
       "      <td>2000-10-07</td>\n",
       "      <td>M</td>\n",
       "      <td>No</td>\n",
       "      <td>Bidya</td>\n",
       "      <td>Salfit</td>\n",
       "      <td>gunfire</td>\n",
       "      <td>NaN</td>\n",
       "      <td>Israeli civilians</td>\n",
       "      <td>Killed by settlers who rioted in Biddya village.</td>\n",
       "    </tr>\n",
       "    <tr>\n",
       "      <th>11123</th>\n",
       "      <td>Wichlav Zalsevsky</td>\n",
       "      <td>2000-10-02</td>\n",
       "      <td>24.0</td>\n",
       "      <td>Israeli</td>\n",
       "      <td>Masha</td>\n",
       "      <td>Salfit</td>\n",
       "      <td>West Bank</td>\n",
       "      <td>2000-10-02</td>\n",
       "      <td>M</td>\n",
       "      <td>Israelis</td>\n",
       "      <td>Ashdod</td>\n",
       "      <td>Israel</td>\n",
       "      <td>gunfire</td>\n",
       "      <td>live ammunition</td>\n",
       "      <td>Palestinian civilians</td>\n",
       "      <td>NaN</td>\n",
       "    </tr>\n",
       "  </tbody>\n",
       "</table>\n",
       "</div>"
      ],
      "text/plain": [
       "                              name date_of_event   age  citizenship  \\\n",
       "11119             Binyamin Herling    2000-10-19  64.0      Israeli   \n",
       "11120  Farid Musa 'Issa a-Nesasreh    2000-10-17  28.0  Palestinian   \n",
       "11121             Hillel Lieberman    2000-10-07  36.0      Israeli   \n",
       "11122    Fahed Mustafa 'Odeh Baker    2000-10-07  21.0  Palestinian   \n",
       "11123            Wichlav Zalsevsky    2000-10-02  24.0      Israeli   \n",
       "\n",
       "      event_location event_location_district event_location_region  \\\n",
       "11119         Nablus                  Nablus             West Bank   \n",
       "11120     Beit Furik                  Nablus             West Bank   \n",
       "11121         Nablus                  Nablus             West Bank   \n",
       "11122          Bidya                  Salfit             West Bank   \n",
       "11123          Masha                  Salfit             West Bank   \n",
       "\n",
       "      date_of_death gender took_part_in_the_hostilities place_of_residence  \\\n",
       "11119    2000-10-19      M                     Israelis            Kedumim   \n",
       "11120    2000-10-17      M                      Unknown         Beit Furik   \n",
       "11121    2000-10-07      M                     Israelis         Elon Moreh   \n",
       "11122    2000-10-07      M                           No              Bidya   \n",
       "11123    2000-10-02      M                     Israelis             Ashdod   \n",
       "\n",
       "      place_of_residence_district type_of_injury       ammunition  \\\n",
       "11119                     Tulkarm        gunfire  live ammunition   \n",
       "11120                      Nablus        gunfire              NaN   \n",
       "11121                      Nablus        gunfire  live ammunition   \n",
       "11122                      Salfit        gunfire              NaN   \n",
       "11123                      Israel        gunfire  live ammunition   \n",
       "\n",
       "                   killed_by  \\\n",
       "11119  Palestinian civilians   \n",
       "11120      Israeli civilians   \n",
       "11121  Palestinian civilians   \n",
       "11122      Israeli civilians   \n",
       "11123  Palestinian civilians   \n",
       "\n",
       "                                                   notes  \n",
       "11119                  Killed while hiking on Mt. Eival.  \n",
       "11120  Killed by a settler from Itamar while harvesti...  \n",
       "11121     His body was found a day after he disappeared.  \n",
       "11122   Killed by settlers who rioted in Biddya village.  \n",
       "11123                                                NaN  "
      ]
     },
     "execution_count": 5,
     "metadata": {},
     "output_type": "execute_result"
    }
   ],
   "source": [
    "data.tail()"
   ]
  },
  {
   "cell_type": "code",
   "execution_count": 6,
   "metadata": {},
   "outputs": [
    {
     "data": {
      "text/plain": [
       "(11124, 16)"
      ]
     },
     "execution_count": 6,
     "metadata": {},
     "output_type": "execute_result"
    }
   ],
   "source": [
    "data.shape"
   ]
  },
  {
   "cell_type": "code",
   "execution_count": 7,
   "metadata": {},
   "outputs": [
    {
     "data": {
      "text/html": [
       "<div>\n",
       "<style scoped>\n",
       "    .dataframe tbody tr th:only-of-type {\n",
       "        vertical-align: middle;\n",
       "    }\n",
       "\n",
       "    .dataframe tbody tr th {\n",
       "        vertical-align: top;\n",
       "    }\n",
       "\n",
       "    .dataframe thead th {\n",
       "        text-align: right;\n",
       "    }\n",
       "</style>\n",
       "<table border=\"1\" class=\"dataframe\">\n",
       "  <thead>\n",
       "    <tr style=\"text-align: right;\">\n",
       "      <th></th>\n",
       "      <th>age</th>\n",
       "    </tr>\n",
       "  </thead>\n",
       "  <tbody>\n",
       "    <tr>\n",
       "      <th>count</th>\n",
       "      <td>10995.000000</td>\n",
       "    </tr>\n",
       "    <tr>\n",
       "      <th>mean</th>\n",
       "      <td>26.745703</td>\n",
       "    </tr>\n",
       "    <tr>\n",
       "      <th>std</th>\n",
       "      <td>13.780548</td>\n",
       "    </tr>\n",
       "    <tr>\n",
       "      <th>min</th>\n",
       "      <td>1.000000</td>\n",
       "    </tr>\n",
       "    <tr>\n",
       "      <th>25%</th>\n",
       "      <td>19.000000</td>\n",
       "    </tr>\n",
       "    <tr>\n",
       "      <th>50%</th>\n",
       "      <td>23.000000</td>\n",
       "    </tr>\n",
       "    <tr>\n",
       "      <th>75%</th>\n",
       "      <td>31.000000</td>\n",
       "    </tr>\n",
       "    <tr>\n",
       "      <th>max</th>\n",
       "      <td>112.000000</td>\n",
       "    </tr>\n",
       "  </tbody>\n",
       "</table>\n",
       "</div>"
      ],
      "text/plain": [
       "                age\n",
       "count  10995.000000\n",
       "mean      26.745703\n",
       "std       13.780548\n",
       "min        1.000000\n",
       "25%       19.000000\n",
       "50%       23.000000\n",
       "75%       31.000000\n",
       "max      112.000000"
      ]
     },
     "execution_count": 7,
     "metadata": {},
     "output_type": "execute_result"
    }
   ],
   "source": [
    "data.describe()"
   ]
  },
  {
   "cell_type": "code",
   "execution_count": 8,
   "metadata": {},
   "outputs": [
    {
     "data": {
      "text/plain": [
       "Index(['name', 'date_of_event', 'age', 'citizenship', 'event_location',\n",
       "       'event_location_district', 'event_location_region', 'date_of_death',\n",
       "       'gender', 'took_part_in_the_hostilities', 'place_of_residence',\n",
       "       'place_of_residence_district', 'type_of_injury', 'ammunition',\n",
       "       'killed_by', 'notes'],\n",
       "      dtype='object')"
      ]
     },
     "execution_count": 8,
     "metadata": {},
     "output_type": "execute_result"
    }
   ],
   "source": [
    "data.columns"
   ]
  },
  {
   "cell_type": "code",
   "execution_count": 9,
   "metadata": {},
   "outputs": [
    {
     "data": {
      "text/plain": [
       "name                            11083\n",
       "date_of_event                    2405\n",
       "age                                95\n",
       "citizenship                         4\n",
       "event_location                    494\n",
       "event_location_district            20\n",
       "event_location_region               3\n",
       "date_of_death                    2593\n",
       "gender                              2\n",
       "took_part_in_the_hostilities        5\n",
       "place_of_residence                580\n",
       "place_of_residence_district        20\n",
       "type_of_injury                     13\n",
       "ammunition                         21\n",
       "killed_by                           3\n",
       "notes                            6744\n",
       "dtype: int64"
      ]
     },
     "execution_count": 9,
     "metadata": {},
     "output_type": "execute_result"
    }
   ],
   "source": [
    "data.nunique()"
   ]
  },
  {
   "cell_type": "code",
   "execution_count": 10,
   "metadata": {},
   "outputs": [
    {
     "data": {
      "text/plain": [
       "array(['Palestinian', 'Israeli', 'Jordanian', 'American'], dtype=object)"
      ]
     },
     "execution_count": 10,
     "metadata": {},
     "output_type": "execute_result"
    }
   ],
   "source": [
    "data['citizenship'].unique()"
   ]
  },
  {
   "cell_type": "code",
   "execution_count": 11,
   "metadata": {},
   "outputs": [
    {
     "data": {
      "text/plain": [
       "array(['Tulkarm', 'Jenin', 'Jericho', 'Khan Yunis', 'Hebron', 'Tubas',\n",
       "       'Ramallah and al-Bira', 'East Jerusalem', 'Israel', 'Nablus',\n",
       "       'al-Quds', 'Bethlehem', 'Gaza', 'Rafah', 'Deir al-Balah',\n",
       "       'North Gaza', 'Salfit', 'Qalqiliya', nan, 'Gush Katif',\n",
       "       'West Bank'], dtype=object)"
      ]
     },
     "execution_count": 11,
     "metadata": {},
     "output_type": "execute_result"
    }
   ],
   "source": [
    "data['place_of_residence_district'].unique()"
   ]
  },
  {
   "cell_type": "code",
   "execution_count": 12,
   "metadata": {},
   "outputs": [
    {
     "data": {
      "text/plain": [
       "array(['gunfire', 'stabbing', 'hit by a vehicle', 'explosion',\n",
       "       'physical assault', 'shelling', 'being bludgeoned with an axe',\n",
       "       'physically assaulted', 'beating', 'stones throwing',\n",
       "       'Strangulation', nan, 'fire', 'house demolition'], dtype=object)"
      ]
     },
     "execution_count": 12,
     "metadata": {},
     "output_type": "execute_result"
    }
   ],
   "source": [
    "data['type_of_injury'].unique()"
   ]
  },
  {
   "cell_type": "code",
   "execution_count": 13,
   "metadata": {},
   "outputs": [
    {
     "data": {
      "text/plain": [
       "array(['live ammunition', 'missile', nan, 'rocket',\n",
       "       '0.22-caliber bullets', 'bomb', 'knife', 'shell', 'rock',\n",
       "       'rubber-coated metal bullets', 'stun grenade', 'teargas canister',\n",
       "       'flare bomb', 'sponge rounds', 'mortar fire', 'grad rocket',\n",
       "       'flechette shells', 'phosphorus shell', 'Qassam rocket',\n",
       "       'explosive belt', 'grenade', 'car bomb'], dtype=object)"
      ]
     },
     "execution_count": 13,
     "metadata": {},
     "output_type": "execute_result"
    }
   ],
   "source": [
    "data['ammunition'].unique()"
   ]
  },
  {
   "cell_type": "code",
   "execution_count": 14,
   "metadata": {},
   "outputs": [
    {
     "data": {
      "text/plain": [
       "array(['Israeli security forces', 'Palestinian civilians',\n",
       "       'Israeli civilians'], dtype=object)"
      ]
     },
     "execution_count": 14,
     "metadata": {},
     "output_type": "execute_result"
    }
   ],
   "source": [
    "data['killed_by'].unique()"
   ]
  },
  {
   "cell_type": "code",
   "execution_count": 15,
   "metadata": {},
   "outputs": [],
   "source": [
    "# Cleaning the Data"
   ]
  },
  {
   "cell_type": "code",
   "execution_count": 16,
   "metadata": {},
   "outputs": [
    {
     "data": {
      "text/plain": [
       "name                               0\n",
       "date_of_event                      0\n",
       "age                              129\n",
       "citizenship                        0\n",
       "event_location                     0\n",
       "event_location_district            0\n",
       "event_location_region              0\n",
       "date_of_death                      0\n",
       "gender                            20\n",
       "took_part_in_the_hostilities    1430\n",
       "place_of_residence                68\n",
       "place_of_residence_district       68\n",
       "type_of_injury                   291\n",
       "ammunition                      5253\n",
       "killed_by                          0\n",
       "notes                            280\n",
       "dtype: int64"
      ]
     },
     "execution_count": 16,
     "metadata": {},
     "output_type": "execute_result"
    }
   ],
   "source": [
    "data.isnull().sum()"
   ]
  },
  {
   "cell_type": "code",
   "execution_count": 18,
   "metadata": {},
   "outputs": [],
   "source": [
    "data = data.dropna()"
   ]
  },
  {
   "cell_type": "code",
   "execution_count": 19,
   "metadata": {},
   "outputs": [
    {
     "data": {
      "text/plain": [
       "name                            0\n",
       "date_of_event                   0\n",
       "age                             0\n",
       "citizenship                     0\n",
       "event_location                  0\n",
       "event_location_district         0\n",
       "event_location_region           0\n",
       "date_of_death                   0\n",
       "gender                          0\n",
       "took_part_in_the_hostilities    0\n",
       "place_of_residence              0\n",
       "place_of_residence_district     0\n",
       "type_of_injury                  0\n",
       "ammunition                      0\n",
       "killed_by                       0\n",
       "notes                           0\n",
       "dtype: int64"
      ]
     },
     "execution_count": 19,
     "metadata": {},
     "output_type": "execute_result"
    }
   ],
   "source": [
    "data.isnull().sum()"
   ]
  },
  {
   "cell_type": "code",
   "execution_count": 23,
   "metadata": {},
   "outputs": [
    {
     "data": {
      "text/plain": [
       "(4661, 16)"
      ]
     },
     "execution_count": 23,
     "metadata": {},
     "output_type": "execute_result"
    }
   ],
   "source": [
    "data.shape"
   ]
  },
  {
   "cell_type": "code",
   "execution_count": 24,
   "metadata": {},
   "outputs": [
    {
     "data": {
      "text/plain": [
       "Index(['name', 'date_of_event', 'age', 'citizenship', 'event_location',\n",
       "       'event_location_district', 'event_location_region', 'date_of_death',\n",
       "       'gender', 'took_part_in_the_hostilities', 'place_of_residence',\n",
       "       'place_of_residence_district', 'type_of_injury', 'ammunition',\n",
       "       'killed_by', 'notes'],\n",
       "      dtype='object')"
      ]
     },
     "execution_count": 24,
     "metadata": {},
     "output_type": "execute_result"
    }
   ],
   "source": [
    "data.columns"
   ]
  },
  {
   "cell_type": "code",
   "execution_count": 26,
   "metadata": {},
   "outputs": [],
   "source": [
    "dataset = data.drop(['name','date_of_event','event_location','event_location_district','took_part_in_the_hostilities','place_of_residence'], axis=1)"
   ]
  },
  {
   "cell_type": "code",
   "execution_count": 28,
   "metadata": {},
   "outputs": [
    {
     "data": {
      "text/html": [
       "<div>\n",
       "<style scoped>\n",
       "    .dataframe tbody tr th:only-of-type {\n",
       "        vertical-align: middle;\n",
       "    }\n",
       "\n",
       "    .dataframe tbody tr th {\n",
       "        vertical-align: top;\n",
       "    }\n",
       "\n",
       "    .dataframe thead th {\n",
       "        text-align: right;\n",
       "    }\n",
       "</style>\n",
       "<table border=\"1\" class=\"dataframe\">\n",
       "  <thead>\n",
       "    <tr style=\"text-align: right;\">\n",
       "      <th></th>\n",
       "      <th>age</th>\n",
       "      <th>citizenship</th>\n",
       "      <th>event_location_region</th>\n",
       "      <th>date_of_death</th>\n",
       "      <th>gender</th>\n",
       "      <th>place_of_residence_district</th>\n",
       "      <th>type_of_injury</th>\n",
       "      <th>ammunition</th>\n",
       "      <th>killed_by</th>\n",
       "      <th>notes</th>\n",
       "    </tr>\n",
       "  </thead>\n",
       "  <tbody>\n",
       "    <tr>\n",
       "      <th>6</th>\n",
       "      <td>24.0</td>\n",
       "      <td>Palestinian</td>\n",
       "      <td>Gaza Strip</td>\n",
       "      <td>2023-09-19</td>\n",
       "      <td>M</td>\n",
       "      <td>Khan Yunis</td>\n",
       "      <td>gunfire</td>\n",
       "      <td>live ammunition</td>\n",
       "      <td>Israeli security forces</td>\n",
       "      <td>Fatally shot by soldiers while participating i...</td>\n",
       "    </tr>\n",
       "    <tr>\n",
       "      <th>94</th>\n",
       "      <td>51.0</td>\n",
       "      <td>Palestinian</td>\n",
       "      <td>Gaza Strip</td>\n",
       "      <td>2023-05-12</td>\n",
       "      <td>M</td>\n",
       "      <td>Gaza</td>\n",
       "      <td>gunfire</td>\n",
       "      <td>missile</td>\n",
       "      <td>Israeli security forces</td>\n",
       "      <td>Senior Islamic Jihad military wing operative. ...</td>\n",
       "    </tr>\n",
       "    <tr>\n",
       "      <th>95</th>\n",
       "      <td>33.0</td>\n",
       "      <td>Palestinian</td>\n",
       "      <td>Gaza Strip</td>\n",
       "      <td>2023-05-12</td>\n",
       "      <td>M</td>\n",
       "      <td>Gaza</td>\n",
       "      <td>gunfire</td>\n",
       "      <td>missile</td>\n",
       "      <td>Israeli security forces</td>\n",
       "      <td>Killed together with another Islamic Jihad mil...</td>\n",
       "    </tr>\n",
       "    <tr>\n",
       "      <th>96</th>\n",
       "      <td>49.0</td>\n",
       "      <td>Palestinian</td>\n",
       "      <td>Gaza Strip</td>\n",
       "      <td>2023-05-11</td>\n",
       "      <td>M</td>\n",
       "      <td>Khan Yunis</td>\n",
       "      <td>gunfire</td>\n",
       "      <td>missile</td>\n",
       "      <td>Israeli security forces</td>\n",
       "      <td>Senior Islamic Jihad military wing operative. ...</td>\n",
       "    </tr>\n",
       "    <tr>\n",
       "      <th>98</th>\n",
       "      <td>25.0</td>\n",
       "      <td>Palestinian</td>\n",
       "      <td>Gaza Strip</td>\n",
       "      <td>2023-05-11</td>\n",
       "      <td>M</td>\n",
       "      <td>Rafah</td>\n",
       "      <td>gunfire</td>\n",
       "      <td>missile</td>\n",
       "      <td>Israeli security forces</td>\n",
       "      <td>Killed together with two of his uncles, one of...</td>\n",
       "    </tr>\n",
       "  </tbody>\n",
       "</table>\n",
       "</div>"
      ],
      "text/plain": [
       "     age  citizenship event_location_region date_of_death gender  \\\n",
       "6   24.0  Palestinian            Gaza Strip    2023-09-19      M   \n",
       "94  51.0  Palestinian            Gaza Strip    2023-05-12      M   \n",
       "95  33.0  Palestinian            Gaza Strip    2023-05-12      M   \n",
       "96  49.0  Palestinian            Gaza Strip    2023-05-11      M   \n",
       "98  25.0  Palestinian            Gaza Strip    2023-05-11      M   \n",
       "\n",
       "   place_of_residence_district type_of_injury       ammunition  \\\n",
       "6                   Khan Yunis        gunfire  live ammunition   \n",
       "94                        Gaza        gunfire          missile   \n",
       "95                        Gaza        gunfire          missile   \n",
       "96                  Khan Yunis        gunfire          missile   \n",
       "98                       Rafah        gunfire          missile   \n",
       "\n",
       "                  killed_by                                              notes  \n",
       "6   Israeli security forces  Fatally shot by soldiers while participating i...  \n",
       "94  Israeli security forces  Senior Islamic Jihad military wing operative. ...  \n",
       "95  Israeli security forces  Killed together with another Islamic Jihad mil...  \n",
       "96  Israeli security forces  Senior Islamic Jihad military wing operative. ...  \n",
       "98  Israeli security forces  Killed together with two of his uncles, one of...  "
      ]
     },
     "execution_count": 28,
     "metadata": {},
     "output_type": "execute_result"
    }
   ],
   "source": [
    "dataset.head()"
   ]
  },
  {
   "cell_type": "code",
   "execution_count": 29,
   "metadata": {},
   "outputs": [],
   "source": [
    "dataset = dataset.drop(['notes'], axis=1)"
   ]
  },
  {
   "cell_type": "code",
   "execution_count": 30,
   "metadata": {},
   "outputs": [
    {
     "data": {
      "text/html": [
       "<div>\n",
       "<style scoped>\n",
       "    .dataframe tbody tr th:only-of-type {\n",
       "        vertical-align: middle;\n",
       "    }\n",
       "\n",
       "    .dataframe tbody tr th {\n",
       "        vertical-align: top;\n",
       "    }\n",
       "\n",
       "    .dataframe thead th {\n",
       "        text-align: right;\n",
       "    }\n",
       "</style>\n",
       "<table border=\"1\" class=\"dataframe\">\n",
       "  <thead>\n",
       "    <tr style=\"text-align: right;\">\n",
       "      <th></th>\n",
       "      <th>age</th>\n",
       "      <th>citizenship</th>\n",
       "      <th>event_location_region</th>\n",
       "      <th>date_of_death</th>\n",
       "      <th>gender</th>\n",
       "      <th>place_of_residence_district</th>\n",
       "      <th>type_of_injury</th>\n",
       "      <th>ammunition</th>\n",
       "      <th>killed_by</th>\n",
       "    </tr>\n",
       "  </thead>\n",
       "  <tbody>\n",
       "    <tr>\n",
       "      <th>6</th>\n",
       "      <td>24.0</td>\n",
       "      <td>Palestinian</td>\n",
       "      <td>Gaza Strip</td>\n",
       "      <td>2023-09-19</td>\n",
       "      <td>M</td>\n",
       "      <td>Khan Yunis</td>\n",
       "      <td>gunfire</td>\n",
       "      <td>live ammunition</td>\n",
       "      <td>Israeli security forces</td>\n",
       "    </tr>\n",
       "    <tr>\n",
       "      <th>94</th>\n",
       "      <td>51.0</td>\n",
       "      <td>Palestinian</td>\n",
       "      <td>Gaza Strip</td>\n",
       "      <td>2023-05-12</td>\n",
       "      <td>M</td>\n",
       "      <td>Gaza</td>\n",
       "      <td>gunfire</td>\n",
       "      <td>missile</td>\n",
       "      <td>Israeli security forces</td>\n",
       "    </tr>\n",
       "    <tr>\n",
       "      <th>95</th>\n",
       "      <td>33.0</td>\n",
       "      <td>Palestinian</td>\n",
       "      <td>Gaza Strip</td>\n",
       "      <td>2023-05-12</td>\n",
       "      <td>M</td>\n",
       "      <td>Gaza</td>\n",
       "      <td>gunfire</td>\n",
       "      <td>missile</td>\n",
       "      <td>Israeli security forces</td>\n",
       "    </tr>\n",
       "    <tr>\n",
       "      <th>96</th>\n",
       "      <td>49.0</td>\n",
       "      <td>Palestinian</td>\n",
       "      <td>Gaza Strip</td>\n",
       "      <td>2023-05-11</td>\n",
       "      <td>M</td>\n",
       "      <td>Khan Yunis</td>\n",
       "      <td>gunfire</td>\n",
       "      <td>missile</td>\n",
       "      <td>Israeli security forces</td>\n",
       "    </tr>\n",
       "    <tr>\n",
       "      <th>98</th>\n",
       "      <td>25.0</td>\n",
       "      <td>Palestinian</td>\n",
       "      <td>Gaza Strip</td>\n",
       "      <td>2023-05-11</td>\n",
       "      <td>M</td>\n",
       "      <td>Rafah</td>\n",
       "      <td>gunfire</td>\n",
       "      <td>missile</td>\n",
       "      <td>Israeli security forces</td>\n",
       "    </tr>\n",
       "  </tbody>\n",
       "</table>\n",
       "</div>"
      ],
      "text/plain": [
       "     age  citizenship event_location_region date_of_death gender  \\\n",
       "6   24.0  Palestinian            Gaza Strip    2023-09-19      M   \n",
       "94  51.0  Palestinian            Gaza Strip    2023-05-12      M   \n",
       "95  33.0  Palestinian            Gaza Strip    2023-05-12      M   \n",
       "96  49.0  Palestinian            Gaza Strip    2023-05-11      M   \n",
       "98  25.0  Palestinian            Gaza Strip    2023-05-11      M   \n",
       "\n",
       "   place_of_residence_district type_of_injury       ammunition  \\\n",
       "6                   Khan Yunis        gunfire  live ammunition   \n",
       "94                        Gaza        gunfire          missile   \n",
       "95                        Gaza        gunfire          missile   \n",
       "96                  Khan Yunis        gunfire          missile   \n",
       "98                       Rafah        gunfire          missile   \n",
       "\n",
       "                  killed_by  \n",
       "6   Israeli security forces  \n",
       "94  Israeli security forces  \n",
       "95  Israeli security forces  \n",
       "96  Israeli security forces  \n",
       "98  Israeli security forces  "
      ]
     },
     "execution_count": 30,
     "metadata": {},
     "output_type": "execute_result"
    }
   ],
   "source": [
    "dataset.head()"
   ]
  },
  {
   "cell_type": "code",
   "execution_count": 31,
   "metadata": {},
   "outputs": [],
   "source": [
    "# Relationship Analysis"
   ]
  },
  {
   "cell_type": "code",
   "execution_count": 40,
   "metadata": {},
   "outputs": [
    {
     "data": {
      "text/plain": [
       "<seaborn.axisgrid.FacetGrid at 0x13bd3c60d10>"
      ]
     },
     "execution_count": 40,
     "metadata": {},
     "output_type": "execute_result"
    },
    {
     "data": {
      "image/png": "[encoded data removed]",
      "text/plain": [
       "<Figure size 500x500 with 1 Axes>"
      ]
     },
     "metadata": {},
     "output_type": "display_data"
    }
   ],
   "source": [
    "sns.displot(dataset['age'], bins=5)"
   ]
  },
  {
   "cell_type": "code",
   "execution_count": 48,
   "metadata": {},
   "outputs": [
    {
     "data": {
      "text/plain": [
       "<seaborn.axisgrid.FacetGrid at 0x13bd62e6ab0>"
      ]
     },
     "execution_count": 48,
     "metadata": {},
     "output_type": "execute_result"
    },
    {
     "data": {
      "image/png": "[encoded data removed]",
      "text/plain": [
       "<Figure size 511.111x500 with 1 Axes>"
      ]
     },
     "metadata": {},
     "output_type": "display_data"
    }
   ],
   "source": [
    "sns.catplot(x='citizenship', kind='count', data=dataset)"
   ]
  },
  {
   "cell_type": "code",
   "execution_count": 42,
   "metadata": {},
   "outputs": [
    {
     "data": {
      "text/plain": [
       "<seaborn.axisgrid.FacetGrid at 0x13bd3ba20f0>"
      ]
     },
     "execution_count": 42,
     "metadata": {},
     "output_type": "execute_result"
    },
    {
     "data": {
      "image/png": "[encoded data removed]",
      "text/plain": [
       "<Figure size 511.111x500 with 1 Axes>"
      ]
     },
     "metadata": {},
     "output_type": "display_data"
    }
   ],
   "source": [
    "sns.catplot(x='gender', kind='count', data=dataset)"
   ]
  },
  {
   "cell_type": "code",
   "execution_count": 56,
   "metadata": {},
   "outputs": [
    {
     "data": {
      "text/plain": [
       "([<matplotlib.patches.Wedge at 0x13bdb7c8950>,\n",
       "  <matplotlib.patches.Wedge at 0x13bdb7f44a0>,\n",
       "  <matplotlib.patches.Wedge at 0x13bdb83c590>],\n",
       " [Text(-1.0361465406433326, 0.369324175099404, 'Israeli security forces'),\n",
       "  Text(1.0346445000754318, -0.37351139000525774, 'Palestinian civilians'),\n",
       "  Text(1.0999910051992428, -0.004448424525573169, 'Israeli civilians')],\n",
       " [Text(-0.5651708403509086, 0.20144955005422036, '89.1%'),\n",
       "  Text(0.5643515454956901, -0.2037334854574133, '10.8%'),\n",
       "  Text(0.5999950937450415, -0.002426413377585364, '0.1%')])"
      ]
     },
     "execution_count": 56,
     "metadata": {},
     "output_type": "execute_result"
    },
    {
     "data": {
      "image/png": "[encoded data removed]",
      "text/plain": [
       "<Figure size 640x480 with 1 Axes>"
      ]
     },
     "metadata": {},
     "output_type": "display_data"
    }
   ],
   "source": []
  },
  {
   "cell_type": "code",
   "execution_count": null,
   "metadata": {},
   "outputs": [],
   "source": []
  },
  {
   "cell_type": "code",
   "execution_count": null,
   "metadata": {},
   "outputs": [],
   "source": []
  }
 ],
 "metadata": {
  "kernelspec": {
   "display_name": "base",
   "language": "python",
   "name": "python3"
  },
  "language_info": {
   "codemirror_mode": {
    "name": "ipython",
    "version": 3
   },
   "file_extension": ".py",
   "mimetype": "text/x-python",
   "name": "python",
   "nbconvert_exporter": "python",
   "pygments_lexer": "ipython3",
   "version": "3.12.4"
  }
 },
 "nbformat": 4,
 "nbformat_minor": 2
}
